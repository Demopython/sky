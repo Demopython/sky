{
 "cells": [
  {
   "cell_type": "code",
   "execution_count": null,
   "metadata": {},
   "outputs": [],
   "source": [
    "import numpy as np\n",
    "import matplotlib.pyplot as plt\n",
    "import pandas as pd\n",
    "import pickle\n",
    "#train_data = pd.read_csv(\"train.csv\")\n",
    "#pickle.dump(train_data,open(\"train_csv.pkl\",\"wb\" ))"
   ]
  },
  {
   "cell_type": "code",
   "execution_count": null,
   "metadata": {},
   "outputs": [],
   "source": [
    "cross=open('train_csv.pkl','rb')\n",
    "train_data=pickle.load(cross)"
   ]
  },
  {
   "cell_type": "code",
   "execution_count": null,
   "metadata": {},
   "outputs": [],
   "source": [
    "train_data.head()"
   ]
  },
  {
   "cell_type": "code",
   "execution_count": null,
   "metadata": {},
   "outputs": [],
   "source": [
    "train_data=train_data.fillna(\"Unknown\")"
   ]
  },
  {
   "cell_type": "code",
   "execution_count": null,
   "metadata": {},
   "outputs": [],
   "source": [
    "train_data.replace({'N':0,'Y':1},inplace=True)"
   ]
  },
  {
   "cell_type": "code",
   "execution_count": null,
   "metadata": {},
   "outputs": [],
   "source": [
    "train_data.columns"
   ]
  },
  {
   "cell_type": "markdown",
   "metadata": {},
   "source": [
    "'acqic':收單行代碼  \n",
    "'bacno':歸戶帳號  \n",
    "'cano':交易卡號  \n",
    "'conam':交易金額-台幣(經過轉換)   \n",
    "'contp':交易類別  \n",
    "'csmcu':消費地幣別  \n",
    "'ecfg':網路交易註記   \n",
    "'etymd':交易型態  \n",
    "'flbmk':Fallback註記  \n",
    "'flg_3dsmk':3DS交易註記  \n",
    "'fraud_ind':盜刷註記  \n",
    "'hcefg':支付型態  \n",
    "'insfg':分期交易註記  \n",
    "'iterm':分期期數  \n",
    "'locdt':授權日期  \n",
    "'loctm':授權時間  \n",
    "'mcc':MCC_CODE  \n",
    "'mchno':特店代號   \n",
    "'ovrlt':超額註記碼   \n",
    "'scity':消費城市   \n",
    "'stocn':消費地國別   \n",
    "'stscd':狀態碼   \n",
    "'txkey':交易序號  "
   ]
  },
  {
   "cell_type": "code",
   "execution_count": null,
   "metadata": {},
   "outputs": [],
   "source": [
    "# df=train_data.reindex(columns=['acqic', 'bacno', 'cano', 'conam', 'contp', 'csmcu', 'etymd',\n",
    "#                                'flbmk', 'flg_3dsmk','hcefg', 'insfg', 'iterm', 'locdt',\n",
    "#                                'loctm', 'mcc', 'mchno', 'ovrlt', 'scity', 'stocn', 'stscd', 'txkey','fraud_ind', ])"
   ]
  },
  {
   "cell_type": "code",
   "execution_count": null,
   "metadata": {},
   "outputs": [],
   "source": [
    "#显示所有列\n",
    "pd.set_option('display.max_columns', None)\n",
    "#显示所有行\n",
    "pd.set_option('display.max_rows', None)"
   ]
  },
  {
   "cell_type": "code",
   "execution_count": null,
   "metadata": {},
   "outputs": [],
   "source": [
    "np.shape(train_data)"
   ]
  },
  {
   "cell_type": "code",
   "execution_count": null,
   "metadata": {},
   "outputs": [],
   "source": [
    "train_data.sort_values(by=\"bacno\",ascending=True)[100:200]"
   ]
  },
  {
   "cell_type": "code",
   "execution_count": null,
   "metadata": {
    "scrolled": true
   },
   "outputs": [],
   "source": [
    "kkk=train_data_1[train_data_1['ecfg']=='N']"
   ]
  },
  {
   "cell_type": "code",
   "execution_count": null,
   "metadata": {},
   "outputs": [],
   "source": [
    "len(kkk)"
   ]
  },
  {
   "cell_type": "code",
   "execution_count": null,
   "metadata": {},
   "outputs": [],
   "source": [
    "train_data.iloc[543917,8]=='Unknown'"
   ]
  },
  {
   "cell_type": "code",
   "execution_count": null,
   "metadata": {
    "scrolled": true
   },
   "outputs": [],
   "source": [
    "kkk[kkk['flbmk']=='N']"
   ]
  },
  {
   "cell_type": "code",
   "execution_count": null,
   "metadata": {
    "scrolled": true
   },
   "outputs": [],
   "source": [
    "kkk[(kkk['flbmk']=='Unknown')&(kkk['flg_3dsmk']=='Unknown')]"
   ]
  },
  {
   "cell_type": "code",
   "execution_count": null,
   "metadata": {},
   "outputs": [],
   "source": [
    "train_data_0=train_data[train_data['fraud_ind']==0]\n",
    "train_data_1=train_data[train_data['fraud_ind']==1]"
   ]
  },
  {
   "cell_type": "code",
   "execution_count": null,
   "metadata": {},
   "outputs": [],
   "source": [
    "np.shape(train_data_0)[0],np.shape(train_data_1)[0]"
   ]
  },
  {
   "cell_type": "code",
   "execution_count": null,
   "metadata": {},
   "outputs": [],
   "source": [
    "np.shape(train_data_0)[0]+np.shape(train_data_1)[0]==np.shape(train_data)[0]"
   ]
  },
  {
   "cell_type": "code",
   "execution_count": null,
   "metadata": {},
   "outputs": [],
   "source": [
    "size_train_0=np.shape(train_data_0)[0]\n",
    "size_train_1=np.shape(train_data_1)[0]"
   ]
  },
  {
   "cell_type": "code",
   "execution_count": null,
   "metadata": {},
   "outputs": [],
   "source": [
    "#訓練資料的fraud_ind占的比例\n",
    "20355/1501432"
   ]
  },
  {
   "cell_type": "code",
   "execution_count": null,
   "metadata": {},
   "outputs": [],
   "source": [
    "#計算train_data_0中，conam不為5的比例\n",
    "conam_count_0_not_5=0\n",
    "for i in range(size_train_0):\n",
    "    if train_data_0.iloc[i,4]!=5:\n",
    "        conam_count_0_not_5+=1\n",
    "    else:\n",
    "        pass\n",
    "print(conam_count_0_not_5)\n",
    "print(conam_count_0_not_5/size_train_0)"
   ]
  },
  {
   "cell_type": "code",
   "execution_count": null,
   "metadata": {},
   "outputs": [],
   "source": [
    "#計算train_data_1中，conam不為5的比例\n",
    "conam_count_1_not_5=0\n",
    "for i in range(size_train_1):\n",
    "    if train_data_1.iloc[i,4]!=5:\n",
    "        conam_count_1_not_5+=1\n",
    "    else:\n",
    "        pass\n",
    "print(conam_count_1_not_5)\n",
    "print(conam_count_1_not_5/size_train_1)"
   ]
  },
  {
   "cell_type": "code",
   "execution_count": null,
   "metadata": {
    "scrolled": true
   },
   "outputs": [],
   "source": [
    "tr_1_Y=train_data_1[train_data_1['ecfg']=='Y']"
   ]
  },
  {
   "cell_type": "code",
   "execution_count": null,
   "metadata": {
    "scrolled": true
   },
   "outputs": [],
   "source": [
    "tr_1_Y['cano'].value_counts()"
   ]
  },
  {
   "cell_type": "code",
   "execution_count": null,
   "metadata": {
    "scrolled": true
   },
   "outputs": [],
   "source": [
    "tr_1_Y[tr_1_Y['cano']==100698].sort_values(by=\"txkey\" , ascending=True)"
   ]
  },
  {
   "cell_type": "code",
   "execution_count": null,
   "metadata": {
    "scrolled": true
   },
   "outputs": [],
   "source": [
    "tr_1_Y[tr_1_Y['cano']==182908].sort_values(by=\"txkey\" , ascending=True)"
   ]
  },
  {
   "cell_type": "code",
   "execution_count": null,
   "metadata": {},
   "outputs": [],
   "source": [
    "tr_1_Y[tr_1_Y['cano']==24682].sort_values(by=\"txkey\" , ascending=True)"
   ]
  },
  {
   "cell_type": "code",
   "execution_count": null,
   "metadata": {
    "scrolled": true
   },
   "outputs": [],
   "source": [
    "df.sort_values(by=\"txkey\" , ascending=True)"
   ]
  },
  {
   "cell_type": "code",
   "execution_count": null,
   "metadata": {
    "scrolled": true
   },
   "outputs": [],
   "source": [
    "train_data_0['csmcu'].value_counts()"
   ]
  },
  {
   "cell_type": "code",
   "execution_count": null,
   "metadata": {
    "scrolled": true
   },
   "outputs": [],
   "source": [
    "train_data_1['csmcu'].value_counts()"
   ]
  },
  {
   "cell_type": "code",
   "execution_count": null,
   "metadata": {},
   "outputs": [],
   "source": [
    "a=train_data_0['flg_3dsmk'].value_counts()\n",
    "b=train_data_1['flg_3dsmk'].value_counts()\n",
    "a=np.array(a)\n",
    "b=np.array(b)"
   ]
  },
  {
   "cell_type": "code",
   "execution_count": null,
   "metadata": {},
   "outputs": [],
   "source": [
    "s=0\n",
    "for i in range(len(a)):\n",
    "        s+=a[i]\n",
    "print(s)"
   ]
  },
  {
   "cell_type": "code",
   "execution_count": null,
   "metadata": {},
   "outputs": [],
   "source": [
    "t=0\n",
    "for i in range(len(b)):\n",
    "        t+=b[i]\n",
    "print(t)"
   ]
  },
  {
   "cell_type": "code",
   "execution_count": null,
   "metadata": {
    "scrolled": true
   },
   "outputs": [],
   "source": [
    "train_data_0[(train_data_0['insfg']!='N')&(train_data_0['iterm']==0)]"
   ]
  },
  {
   "cell_type": "code",
   "execution_count": null,
   "metadata": {},
   "outputs": [],
   "source": [
    "summation=0\n",
    "a=np.array(a)\n",
    "for i in range(len(a)):\n",
    "    summation=summation+a[i]\n",
    "print(summation,i)"
   ]
  },
  {
   "cell_type": "code",
   "execution_count": null,
   "metadata": {},
   "outputs": [],
   "source": [
    "pd.set_option('display.max_columns', None)"
   ]
  },
  {
   "cell_type": "code",
   "execution_count": null,
   "metadata": {
    "scrolled": true
   },
   "outputs": [],
   "source": [
    "max(train_data_0['locdt'])"
   ]
  },
  {
   "cell_type": "code",
   "execution_count": null,
   "metadata": {},
   "outputs": [],
   "source": [
    "max(train_data_1['locdt'])"
   ]
  },
  {
   "cell_type": "code",
   "execution_count": null,
   "metadata": {},
   "outputs": [],
   "source": [
    "X_train_no_str=df[['acqic', 'bacno', 'cano', 'conam', 'contp', 'csmcu','etymd',\n",
    "                   'hcefg', 'iterm', 'locdt',\n",
    "                   'loctm', 'mcc', 'mchno', 'scity', 'stocn', 'stscd', 'txkey','fraud_ind']]\n",
    "dataset=np.array(X_train_no_str)"
   ]
  },
  {
   "cell_type": "code",
   "execution_count": null,
   "metadata": {},
   "outputs": [],
   "source": [
    "#'stocn':f14\n",
    "#'conam':f3\n",
    "#'scity':f13\n",
    "X_tr=df[['stocn','conam','scity','fraud_ind']]"
   ]
  },
  {
   "cell_type": "code",
   "execution_count": null,
   "metadata": {},
   "outputs": [],
   "source": [
    "p=X_tr[X_tr['fraud_ind']==0]\n",
    "q=X_tr[X_tr['fraud_ind']==1]"
   ]
  },
  {
   "cell_type": "code",
   "execution_count": null,
   "metadata": {},
   "outputs": [],
   "source": [
    "np.shape(p)[0],np.shape(q)[0]"
   ]
  },
  {
   "cell_type": "code",
   "execution_count": null,
   "metadata": {
    "scrolled": true
   },
   "outputs": [],
   "source": [
    "X_train_0=p.sample(n=1000)\n",
    "X_train_1=q.sample(n=1000)"
   ]
  },
  {
   "cell_type": "code",
   "execution_count": null,
   "metadata": {
    "scrolled": true
   },
   "outputs": [],
   "source": [
    "re_X_train = pd.concat([X_train_0,X_train_1], axis=0, ignore_index=True)"
   ]
  },
  {
   "cell_type": "code",
   "execution_count": null,
   "metadata": {
    "scrolled": true
   },
   "outputs": [],
   "source": [
    "re_X_train"
   ]
  },
  {
   "cell_type": "code",
   "execution_count": null,
   "metadata": {},
   "outputs": [],
   "source": [
    "ar_re_xtr=np.array(re_X_train)\n",
    "X=ar_re_xtr[:,0:3]\n",
    "y=ar_re_xtr[:,3]"
   ]
  },
  {
   "cell_type": "code",
   "execution_count": null,
   "metadata": {},
   "outputs": [],
   "source": [
    "from sklearn import svm\n",
    "\n",
    "import time\n",
    "tStart = time.time()\n",
    "svc_model = svm.SVC(kernel='linear')\n",
    "svc_model.fit(X,y)\n",
    "tEnd = time.time()\n",
    "\n",
    "print (tEnd - tStart)"
   ]
  },
  {
   "cell_type": "code",
   "execution_count": null,
   "metadata": {},
   "outputs": [],
   "source": [
    "test_data = pd.read_csv(\"test.csv\")"
   ]
  },
  {
   "cell_type": "code",
   "execution_count": null,
   "metadata": {},
   "outputs": [],
   "source": [
    "test_data['ecfg'].value_counts()"
   ]
  },
  {
   "cell_type": "code",
   "execution_count": null,
   "metadata": {},
   "outputs": [],
   "source": [
    "e=np.array(d)\n",
    "k=0\n",
    "for i in range(len(e)):\n",
    "        k+=e[i]\n",
    "print(k)"
   ]
  },
  {
   "cell_type": "code",
   "execution_count": null,
   "metadata": {},
   "outputs": [],
   "source": [
    "d"
   ]
  },
  {
   "cell_type": "code",
   "execution_count": null,
   "metadata": {},
   "outputs": [],
   "source": [
    "df=test_data[(test_data['cano']==37028)]#&(train_data_0['conam']==578.02)]"
   ]
  },
  {
   "cell_type": "code",
   "execution_count": null,
   "metadata": {},
   "outputs": [],
   "source": [
    "df.sort_values(by=\"txkey\" , ascending=True)"
   ]
  },
  {
   "cell_type": "code",
   "execution_count": null,
   "metadata": {},
   "outputs": [],
   "source": [
    "df"
   ]
  }
 ],
 "metadata": {
  "kernelspec": {
   "display_name": "Python 3",
   "language": "python",
   "name": "python3"
  },
  "language_info": {
   "codemirror_mode": {
    "name": "ipython",
    "version": 3
   },
   "file_extension": ".py",
   "mimetype": "text/x-python",
   "name": "python",
   "nbconvert_exporter": "python",
   "pygments_lexer": "ipython3",
   "version": "3.7.0"
  }
 },
 "nbformat": 4,
 "nbformat_minor": 2
}
