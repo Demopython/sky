{
 "cells": [
  {
   "cell_type": "markdown",
   "metadata": {},
   "source": [
    "output4.csv"
   ]
  },
  {
   "cell_type": "markdown",
   "metadata": {},
   "source": [
    "參考網址1:\n",
    "https://datascience.stackexchange.com/questions/20415/what-should-be-the-order-of-class-names-in-sklearn-tree-export-function-beginne  \n",
    "參考網址2:\n",
    "https://zhuanlan.zhihu.com/p/27538989"
   ]
  },
  {
   "cell_type": "code",
   "execution_count": 1,
   "metadata": {},
   "outputs": [],
   "source": [
    "import numpy as np\n",
    "import matplotlib.pyplot as plt\n",
    "import pandas as pd\n",
    "import pickle\n",
    "#train_data = pd.read_csv(\"train.csv\")\n",
    "#pickle.dump(train_data,open(\"train_csv.pkl\",\"wb\" ))"
   ]
  },
  {
   "cell_type": "code",
   "execution_count": 2,
   "metadata": {},
   "outputs": [],
   "source": [
    "cross=open('train_csv.pkl','rb')\n",
    "train_data=pickle.load(cross)"
   ]
  },
  {
   "cell_type": "code",
   "execution_count": 3,
   "metadata": {},
   "outputs": [
    {
     "data": {
      "text/plain": [
       "Index(['acqic', 'bacno', 'cano', 'conam', 'contp', 'csmcu', 'ecfg', 'etymd',\n",
       "       'flbmk', 'flg_3dsmk', 'fraud_ind', 'hcefg', 'insfg', 'iterm', 'locdt',\n",
       "       'loctm', 'mcc', 'mchno', 'ovrlt', 'scity', 'stocn', 'stscd', 'txkey'],\n",
       "      dtype='object')"
      ]
     },
     "execution_count": 3,
     "metadata": {},
     "output_type": "execute_result"
    }
   ],
   "source": [
    "train_data.columns"
   ]
  },
  {
   "cell_type": "code",
   "execution_count": 4,
   "metadata": {
    "scrolled": true
   },
   "outputs": [],
   "source": [
    "df=train_data.reindex(columns=['acqic', 'bacno', 'cano', 'conam', 'contp', 'csmcu', 'ecfg','etymd',\n",
    "                               'hcefg', 'insfg', 'iterm', 'locdt',\n",
    "                               'loctm', 'mcc', 'mchno', 'ovrlt', 'scity', 'stocn', 'stscd', 'txkey','fraud_ind'])"
   ]
  },
  {
   "cell_type": "code",
   "execution_count": 5,
   "metadata": {},
   "outputs": [
    {
     "data": {
      "text/plain": [
       "(1521787, 21)"
      ]
     },
     "execution_count": 5,
     "metadata": {},
     "output_type": "execute_result"
    }
   ],
   "source": [
    "np.shape(df)"
   ]
  },
  {
   "cell_type": "code",
   "execution_count": 6,
   "metadata": {},
   "outputs": [],
   "source": [
    "df=df.dropna()\n",
    "#df=df.fillna(\"Unknown\")"
   ]
  },
  {
   "cell_type": "code",
   "execution_count": 7,
   "metadata": {},
   "outputs": [
    {
     "data": {
      "text/plain": [
       "(1521787, 21)"
      ]
     },
     "execution_count": 7,
     "metadata": {},
     "output_type": "execute_result"
    }
   ],
   "source": [
    "np.shape(df)"
   ]
  },
  {
   "cell_type": "code",
   "execution_count": 8,
   "metadata": {},
   "outputs": [],
   "source": [
    "df.replace({'N':0,'Y':1},inplace=True)"
   ]
  },
  {
   "cell_type": "code",
   "execution_count": 9,
   "metadata": {},
   "outputs": [],
   "source": [
    "X=df[['acqic', 'bacno', 'cano', 'conam', 'contp', 'csmcu', 'ecfg','etymd',\n",
    "                               'hcefg', 'insfg', 'iterm',\n",
    "                               'loctm', 'mcc', 'mchno', 'ovrlt', 'scity', 'stocn', 'stscd',]]\n",
    "y=df[['fraud_ind']]"
   ]
  },
  {
   "cell_type": "code",
   "execution_count": 10,
   "metadata": {},
   "outputs": [
    {
     "data": {
      "text/plain": [
       "((1521787, 18), (1521787, 1))"
      ]
     },
     "execution_count": 10,
     "metadata": {},
     "output_type": "execute_result"
    }
   ],
   "source": [
    "np.shape(X),np.shape(y)"
   ]
  },
  {
   "cell_type": "code",
   "execution_count": 11,
   "metadata": {},
   "outputs": [],
   "source": [
    "from sklearn.model_selection import train_test_split\n",
    "X_train, X_test, y_train, y_test = train_test_split(X,y,random_state=1)#括號裡面還可加test_size=0.33"
   ]
  },
  {
   "cell_type": "code",
   "execution_count": 12,
   "metadata": {},
   "outputs": [
    {
     "data": {
      "text/plain": [
       "((1141340, 18), (380447, 18))"
      ]
     },
     "execution_count": 12,
     "metadata": {},
     "output_type": "execute_result"
    }
   ],
   "source": [
    "X_train.shape,X_test.shape"
   ]
  },
  {
   "cell_type": "code",
   "execution_count": 13,
   "metadata": {},
   "outputs": [
    {
     "data": {
      "text/plain": [
       "((1141340, 1), (380447, 1))"
      ]
     },
     "execution_count": 13,
     "metadata": {},
     "output_type": "execute_result"
    }
   ],
   "source": [
    "y_train.shape,y_test.shape"
   ]
  },
  {
   "cell_type": "code",
   "execution_count": 14,
   "metadata": {},
   "outputs": [],
   "source": [
    "from sklearn import tree\n",
    "clf = tree.DecisionTreeClassifier()#括號裡面可加max_depth = 3之類\n",
    "clf = clf.fit(X_train, y_train)"
   ]
  },
  {
   "cell_type": "code",
   "execution_count": null,
   "metadata": {},
   "outputs": [],
   "source": [
    "# with open(\"yes-no.dot\", 'w') as f:\n",
    "#      f = tree.export_graphviz(clf,\n",
    "#                               out_file=f,\n",
    "#                               #max_depth = 3,\n",
    "#                               impurity = True,\n",
    "#                               feature_names = list(X_train),\n",
    "#                               class_names =['0','1'],#數字由小到大輸入\n",
    "#                               rounded = True,\n",
    "#                               filled= True )"
   ]
  },
  {
   "cell_type": "code",
   "execution_count": null,
   "metadata": {},
   "outputs": [],
   "source": [
    "#from subprocess import check_call\n",
    "#check_call(['C:/Program Files (x86)/Graphviz2.38/bin/dot','-Tpng','yes-no.dot','-o','yes-no.png'])\n",
    "##check_call(['dot','-Tpng','safe-loans.dot','-o','safe-loans.png'])\n",
    "\n",
    "#from IPython.display import Image as PImage\n",
    "#from PIL import Image, ImageDraw, ImageFont\n",
    "#img = Image.open(\"yes-no.png\")\n",
    "#draw = ImageDraw.Draw(img)\n",
    "#img.save('output.png')\n",
    "#PImage(\"output.png\")"
   ]
  },
  {
   "cell_type": "code",
   "execution_count": 15,
   "metadata": {},
   "outputs": [
    {
     "data": {
      "text/plain": [
       "0.9909396052538199"
      ]
     },
     "execution_count": 15,
     "metadata": {},
     "output_type": "execute_result"
    }
   ],
   "source": [
    "from sklearn.metrics import accuracy_score\n",
    "accuracy_score(y_test, clf.predict(X_test))"
   ]
  },
  {
   "cell_type": "code",
   "execution_count": 33,
   "metadata": {},
   "outputs": [],
   "source": [
    "test_data = pd.read_csv(\"test.csv\")"
   ]
  },
  {
   "cell_type": "code",
   "execution_count": 34,
   "metadata": {},
   "outputs": [],
   "source": [
    "test_data.replace({'N':0,'Y':1},inplace=True)"
   ]
  },
  {
   "cell_type": "code",
   "execution_count": 35,
   "metadata": {
    "scrolled": true
   },
   "outputs": [
    {
     "name": "stdout",
     "output_type": "stream",
     "text": [
      "acqic        False\n",
      "bacno        False\n",
      "cano         False\n",
      "conam        False\n",
      "contp        False\n",
      "csmcu        False\n",
      "ecfg         False\n",
      "etymd        False\n",
      "flbmk         True\n",
      "flg_3dsmk     True\n",
      "hcefg        False\n",
      "insfg        False\n",
      "iterm        False\n",
      "locdt        False\n",
      "loctm        False\n",
      "mcc          False\n",
      "mchno        False\n",
      "ovrlt        False\n",
      "scity        False\n",
      "stocn        False\n",
      "stscd        False\n",
      "txkey        False\n",
      "dtype: bool\n"
     ]
    }
   ],
   "source": [
    "print(test_data.isnull().any())"
   ]
  },
  {
   "cell_type": "code",
   "execution_count": 36,
   "metadata": {},
   "outputs": [],
   "source": [
    "#locdt授權日期,txkey交易序號，我認為不重要。然後'flg_3dsmk'跟'flbmk'有空值，所以剃掉變數。\n",
    "test_data_pick=test_data[['acqic', 'bacno', 'cano', 'conam', 'contp', 'csmcu', 'ecfg','etymd',\n",
    "                               'hcefg', 'insfg', 'iterm',\n",
    "                               'loctm', 'mcc', 'mchno', 'ovrlt', 'scity', 'stocn', 'stscd']]"
   ]
  },
  {
   "cell_type": "code",
   "execution_count": 37,
   "metadata": {},
   "outputs": [
    {
     "data": {
      "text/plain": [
       "(421665, 18)"
      ]
     },
     "execution_count": 37,
     "metadata": {},
     "output_type": "execute_result"
    }
   ],
   "source": [
    "np.shape(test_data_pick)"
   ]
  },
  {
   "cell_type": "code",
   "execution_count": 38,
   "metadata": {},
   "outputs": [],
   "source": [
    "fi=clf.predict(test_data_pick)"
   ]
  },
  {
   "cell_type": "code",
   "execution_count": 39,
   "metadata": {},
   "outputs": [
    {
     "data": {
      "text/plain": [
       "421665"
      ]
     },
     "execution_count": 39,
     "metadata": {},
     "output_type": "execute_result"
    }
   ],
   "source": [
    "len(fi)"
   ]
  },
  {
   "cell_type": "code",
   "execution_count": 40,
   "metadata": {},
   "outputs": [
    {
     "name": "stdout",
     "output_type": "stream",
     "text": [
      "6825\n",
      "0.016185834726619473\n"
     ]
    }
   ],
   "source": [
    "k=0\n",
    "for i in range(len(fi)):\n",
    "    if fi[i]==1:\n",
    "        k+=1\n",
    "print(k)\n",
    "print(k/421665)"
   ]
  },
  {
   "cell_type": "code",
   "execution_count": 41,
   "metadata": {},
   "outputs": [],
   "source": [
    "kkk=pd.DataFrame(fi)\n",
    "kkk.rename(columns={kkk.columns[0]:\"fraud_ind\"}, inplace=True)"
   ]
  },
  {
   "cell_type": "code",
   "execution_count": 42,
   "metadata": {},
   "outputs": [
    {
     "data": {
      "text/plain": [
       "421665"
      ]
     },
     "execution_count": 42,
     "metadata": {},
     "output_type": "execute_result"
    }
   ],
   "source": [
    "len(kkk)"
   ]
  },
  {
   "cell_type": "code",
   "execution_count": 43,
   "metadata": {},
   "outputs": [],
   "source": [
    "idx=test_data[['txkey']]"
   ]
  },
  {
   "cell_type": "code",
   "execution_count": 44,
   "metadata": {},
   "outputs": [],
   "source": [
    "result=pd.merge(idx,kkk,left_index=True,right_index=True,how='outer')"
   ]
  },
  {
   "cell_type": "code",
   "execution_count": 45,
   "metadata": {},
   "outputs": [],
   "source": [
    "result.to_csv(\"output4-2.csv\",index=False,sep=',')"
   ]
  },
  {
   "cell_type": "code",
   "execution_count": null,
   "metadata": {},
   "outputs": [],
   "source": []
  }
 ],
 "metadata": {
  "kernelspec": {
   "display_name": "Python 3",
   "language": "python",
   "name": "python3"
  },
  "language_info": {
   "codemirror_mode": {
    "name": "ipython",
    "version": 3
   },
   "file_extension": ".py",
   "mimetype": "text/x-python",
   "name": "python",
   "nbconvert_exporter": "python",
   "pygments_lexer": "ipython3",
   "version": "3.7.0"
  }
 },
 "nbformat": 4,
 "nbformat_minor": 2
}
